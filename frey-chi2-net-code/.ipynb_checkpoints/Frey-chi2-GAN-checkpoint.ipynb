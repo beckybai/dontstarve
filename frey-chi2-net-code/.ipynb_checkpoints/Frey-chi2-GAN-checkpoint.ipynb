{
 "cells": [
  {
   "cell_type": "code",
   "execution_count": 1,
   "metadata": {},
   "outputs": [
    {
     "name": "stderr",
     "output_type": "stream",
     "text": [
      "/home/becky/anaconda2/envs/tensorflow/lib/python2.7/site-packages/matplotlib/__init__.py:1405: UserWarning: \n",
      "This call to matplotlib.use() has no effect because the backend has already\n",
      "been chosen; matplotlib.use() must be called *before* pylab, matplotlib.pyplot,\n",
      "or matplotlib.backends is imported for the first time.\n",
      "\n",
      "  warnings.warn(_use_error_msg)\n"
     ]
    }
   ],
   "source": [
    "from __future__ import absolute_import, division, print_function\n",
    "from tensorflow.examples.tutorials.mnist import input_data\n",
    "\n",
    "\n",
    "import math\n",
    "import os\n",
    "\n",
    "import numpy as np\n",
    "import prettytensor as pt\n",
    "import scipy.misc\n",
    "import tensorflow as tf\n",
    "# from scipy.misc import imsave\n",
    "from tensorflow.examples.tutorials.mnist import input_data\n",
    "\n",
    "import scipy\n",
    "\n",
    "from deconv import deconv2d\n",
    "from progressbar import ETA, Bar, Percentage, ProgressBar\n",
    "\n",
    "from time import time\n",
    "\n",
    "import matplotlib.pyplot as plt\n",
    "import matplotlib.image as mpimg\n",
    "%matplotlib inline\n",
    "\n",
    "from scipy.spatial import KDTree\n",
    "\n",
    "from utils.Dataset import Dataset\n",
    "from scipy.io import loadmat\n",
    "\n",
    "from utils.Transform import PCA\n",
    "from utils.Visualization import show_img,draw_grad\n",
    "from utils.Model import save_model_params,restore_model_params\n",
    "\n",
    "# sess = tf.InteractiveSession()\n",
    "\n",
    "config = tf.ConfigProto()\n",
    "config.gpu_options.allow_growth = True\n",
    "config.allow_soft_placement=True\n",
    "sess = tf.Session(config=config)"
   ]
  },
  {
   "cell_type": "code",
   "execution_count": 2,
   "metadata": {},
   "outputs": [],
   "source": [
    "flags = tf.flags\n",
    "logging = tf.logging\n",
    "\n",
    "flags.DEFINE_integer(\"batch_size\", 128, \"batch size\")\n",
    "flags.DEFINE_integer(\"updates_per_epoch\", 1000, \"number of updates per epoch\")\n",
    "flags.DEFINE_integer(\"max_epoch\", 100, \"max epoch\")\n",
    "flags.DEFINE_float(\"learning_rate\", 1e-2, \"learning rate\")\n",
    "flags.DEFINE_string(\"working_directory\", \"\", \"\")\n",
    "flags.DEFINE_integer(\"hidden_size\", 50, \"size of the hidden VAE unit\")\n",
    "# flags.DEFINE_integer(\"hidden_size\", 2, \"size of the hidden VAE unit\")\n",
    "\n",
    "flags.DEFINE_float(\"lam\", 10, \"regularization parameter\")\n",
    "flags.DEFINE_integer(\"dim\", 28*28, \"dimensionality of the image\")\n",
    "flags.DEFINE_integer(\"tan_dim\", 5, \"dimensionality of the tagent space\")\n",
    "flags.DEFINE_float(\"sig\",10.0,\"kernel bandwidth parameter\")\n",
    "\n",
    "\n",
    "FLAGS = flags.FLAGS"
   ]
  },
  {
   "cell_type": "code",
   "execution_count": 3,
   "metadata": {
    "collapsed": true
   },
   "outputs": [],
   "source": [
    "def discriminator(input_tensor):\n",
    "    '''Create discriminator network.\n",
    "\n",
    "    Args:\n",
    "        input_tensor: a batch of flattened images [batch_size, 28*28]\n",
    "\n",
    "    Returns:\n",
    "        A tensor that expresses the logit of being a true sample\n",
    "    '''\n",
    "\n",
    "    return (pt.wrap(input_tensor).\n",
    "            reshape([FLAGS.batch_size, 28, 28, 1]).\n",
    "            conv2d(5, 32, stride=2).\n",
    "            conv2d(5, 64, stride=2).\n",
    "            conv2d(5, 128, edges='VALID').\n",
    "            dropout(0.9).\n",
    "            flatten().\n",
    "            fully_connected(1, activation_fn=None)).tensor\n",
    "\n",
    "def generator(Z=None):\n",
    "    '''Create a generator network\n",
    "    \n",
    "    '''\n",
    "    if Z==None:\n",
    "        Z = tf.random_uniform([FLAGS.batch_size,FLAGS.hidden_size])\n",
    "    \n",
    "    return (pt.wrap(Z).\n",
    "            reshape([FLAGS.batch_size, 1, 1, FLAGS.hidden_size]).\n",
    "            deconv2d(3, 128, edges='VALID').\n",
    "            deconv2d(5, 64, edges='VALID').\n",
    "            deconv2d(5, 32, stride=2).\n",
    "            deconv2d(5, 1, stride=2, activation_fn=tf.nn.sigmoid).\n",
    "            flatten()).tensor\n",
    "\n",
    "def chi2_loss(Xn,Yn):\n",
    "    C = tf.matmul(Xn,Yn,transpose_a=True)/(2*FLAGS.batch_size) # bias correction needed???\n",
    "    chi2 = tf.reduce_sum(tf.square(C))\n",
    "    return chi2"
   ]
  },
  {
   "cell_type": "code",
   "execution_count": 4,
   "metadata": {},
   "outputs": [
    {
     "name": "stdout",
     "output_type": "stream",
     "text": [
      "Extracting /home/becky/MNIST_data/train-images-idx3-ubyte.gz\n",
      "Extracting /home/becky/MNIST_data/train-labels-idx1-ubyte.gz\n",
      "Extracting /home/becky/MNIST_data/t10k-images-idx3-ubyte.gz\n",
      "Extracting /home/becky/MNIST_data/t10k-labels-idx1-ubyte.gz\n"
     ]
    }
   ],
   "source": [
    "# Read data\n",
    "\n",
    "# filepath = 'datasets/frey/frey_rawface.mat'\n",
    "\n",
    "# frey_data = loadmat(filepath)\n",
    "\n",
    "# frey_full = np.reshape(frey_data['ff'].T,[-1,28,20])\n",
    "# frey_full = frey_full/255.\n",
    "\n",
    "# frey_data = Dataset(frey_full)\n",
    "mnist = input_data.read_data_sets(\"/home/becky/MNIST_data/\", one_hot=True)\n"
   ]
  },
  {
   "cell_type": "code",
   "execution_count": 20,
   "metadata": {},
   "outputs": [
    {
     "data": {
      "text/plain": [
       "<function count>"
      ]
     },
     "execution_count": 20,
     "metadata": {},
     "output_type": "execute_result"
    }
   ],
   "source": []
  },
  {
   "cell_type": "code",
   "execution_count": 5,
   "metadata": {},
   "outputs": [],
   "source": [
    "input_tensor = tf.placeholder(tf.float32, [FLAGS.batch_size, FLAGS.dim])\n",
    "learning_rate = tf.placeholder(tf.float32)\n",
    "# input_code = tf.placeholder(tf.float32, [FLAGS.batch_size, FLAGS.hidden_size])\n",
    "\n",
    "# ema = tf.train.ExponentialMovingAverage(decay=0.99)\n",
    "ema = tf.train.ExponentialMovingAverage(decay=0.8)\n",
    "\n",
    "label = tf.constant(np.concatenate((np.ones([FLAGS.batch_size,1]),\\\n",
    "                    -np.ones([FLAGS.batch_size,1]))),dtype=tf.float32)\n",
    "\n",
    "with tf.device('/gpu:0'):\n",
    "\n",
    "    with pt.defaults_scope(activation_fn=tf.nn.elu,\n",
    "                           batch_normalize=True,\n",
    "                           learned_moments_update_rate=0.0003,\n",
    "                           variance_epsilon=0.001,\n",
    "                           scale_after_normalization=True):\n",
    "        with pt.defaults_scope(phase=pt.Phase.train):\n",
    "            with tf.variable_scope(\"discriminator\") as scope:\n",
    "                D_input = discriminator(input_tensor)\n",
    "            with tf.variable_scope(\"generator\") as scope:\n",
    "                generated_tensor = generator()\n",
    "            with tf.variable_scope(\"discriminator\", reuse=True) as scope:\n",
    "                D_generated = discriminator(generated_tensor)\n",
    "\n",
    "        with pt.defaults_scope(phase=pt.Phase.test):\n",
    "            with tf.variable_scope(\"discriminator\", reuse=True) as scope:\n",
    "                D_input_test = discriminator(input_tensor)\n",
    "            with tf.variable_scope(\"generator\", reuse=True) as scope:\n",
    "                generated_tensor_test = generator()\n",
    "            with tf.variable_scope(\"discriminator\", reuse=True) as scope:\n",
    "                D_generated_test = discriminator(generated_tensor)\n",
    "                \n",
    "#     D = tf.concat((D_input,D_generated),axis=0)\n",
    "    D = tf.sigmoid(tf.concat((D_input,D_generated),axis=0))\n",
    "\n",
    "    D_mean,D_var = tf.nn.moments(D,axes=[0])\n",
    "    maintain_averages_op = ema.apply([D_mean, D_var])\n",
    "\n",
    "    ema_D_mean = ema.average(D_mean)\n",
    "    ema_D_std = tf.sqrt(ema.average(D_var))\n",
    "\n",
    "    Dn = (D-ema_D_mean)/ema_D_std\n",
    "\n",
    "    data_loss = tf.reduce_mean(D_input-tf.nn.softplus(D_input))\n",
    "    sampl_loss = -tf.reduce_mean(tf.nn.softplus(D_generated))\n",
    "    \n",
    "    discr_loss = -(data_loss+sampl_loss)\n",
    "    gener_loss = chi2_loss(Dn,label)\n",
    "    \n",
    "    discr_vars = [v for v in tf.get_collection(tf.GraphKeys.GLOBAL_VARIABLES) if v.name.startswith('discriminator')]\n",
    "    gener_vars = [v for v in tf.get_collection(tf.GraphKeys.GLOBAL_VARIABLES) if v.name.startswith('generator')]\n",
    "\n",
    "#     optimizer = tf.train.AdamOptimizer(FLAGS.learning_rate, epsilon=1.0)\n",
    "    optimizer = tf.train.AdamOptimizer(learning_rate, epsilon=1.0)\n",
    "    \n",
    "    train_gan_discr = pt.apply_optimizer(optimizer, losses=[discr_loss], var_list=discr_vars)\n",
    "    train_gan_gener = pt.apply_optimizer(optimizer, losses=[gener_loss], var_list=gener_vars)"
   ]
  },
  {
   "cell_type": "code",
   "execution_count": 6,
   "metadata": {},
   "outputs": [
    {
     "name": "stdout",
     "output_type": "stream",
     "text": [
      "buhui\n",
      "ha@@@@\n",
      "ha?\n"
     ]
    }
   ],
   "source": [
    "# Initialization\n",
    "\n",
    "print(\"buhui\")\n",
    "init = tf.global_variables_initializer()\n",
    "print(\"ha@@@@\")\n",
    "sess.run(init)\n",
    "print(\"ha?\")"
   ]
  },
  {
   "cell_type": "code",
   "execution_count": null,
   "metadata": {
    "scrolled": false
   },
   "outputs": [
    {
     "name": "stdout",
     "output_type": "stream",
     "text": [
      "[1, 0.091584208793938165, 14.883298873901367]\n",
      "0\n",
      "[2, 0.058151155617088078, 14.85469102859497]\n",
      "1\n",
      "[3, 0.19153651371598243, 15.299550771713257]\n",
      "2\n"
     ]
    }
   ],
   "source": [
    "lr_discr = 5e-4\n",
    "lr_gener = 1e-3\n",
    "\n",
    "max_epoch = 5\n",
    "updates_per_epoch = 2\n",
    "# max_epoch = 10\n",
    "# updates_per_epoch = 100\n",
    "# max_epoch = 500\n",
    "# updates_per_epoch = 100\n",
    "\n",
    "epoch_record = np.zeros([max_epoch,])\n",
    "\n",
    "for epoch_id in range(max_epoch):\n",
    "    \n",
    "    loss_record = np.zeros([updates_per_epoch,])\n",
    "    \n",
    "    t0 = time()\n",
    "    \n",
    "    for step in range(updates_per_epoch):\n",
    "\n",
    "        x, _ = mnist.train.next_batch(FLAGS.batch_size)\n",
    "\n",
    "#         x,_ = frey_data.next_batch(FLAGS.batch_size)\n",
    "        \n",
    "        _,loss_val,_ = sess.run([train_gan_discr,discr_loss,maintain_averages_op],\n",
    "                    {input_tensor: x, learning_rate: lr_discr})\n",
    "        \n",
    "        _,loss_val,_ = sess.run([train_gan_gener,gener_loss,maintain_averages_op], \n",
    "                    {input_tensor: x, learning_rate: lr_gener})\n",
    "        \n",
    "        loss_record[step] = loss_val\n",
    "        \n",
    "    t1 = time()\n",
    "    \n",
    "    print([epoch_id+1,np.mean(loss_record),t1-t0])\n",
    "    epoch_record[epoch_id] = np.mean(loss_record)\n",
    "    print(epoch_id)\n",
    "\n",
    "_ = plt.plot(epoch_record)"
   ]
  },
  {
   "cell_type": "code",
   "execution_count": 11,
   "metadata": {},
   "outputs": [
    {
     "data": {
      "image/png": "[encoded data removed]",
      "text/plain": [
       "<matplotlib.figure.Figure at 0x7f96141ce210>"
      ]
     },
     "metadata": {},
     "output_type": "display_data"
    }
   ],
   "source": [
    "def sigmoid(x):\n",
    "  return 1 / (1 + np.exp(-x))\n",
    "\n",
    "# running_mean,running_std = sess.run([ema_D_mean,ema_D_std],{input_tensor: x})\n",
    "# print([running_mean[0],running_std[0]])\n",
    "Dn_val = sigmoid(sess.run(Dn,{input_tensor: x}))\n",
    "# _ = plt.hist(Dn_val)\n",
    "label_np = np.concatenate((np.ones([FLAGS.batch_size,1]),\\\n",
    "                    -np.ones([FLAGS.batch_size,1])))\n",
    "_ = plt.plot(label_np,Dn_val,'sg',alpha=.3)\n",
    "_ = plt.xlim([-1.5,1.5])\n",
    "_ = plt.ylim([-.05,1.05])\n",
    "# print(Dn_val)\n",
    "\n",
    "# print(np.dot(Dn_val.T,label_np)/(2*FLAGS.batch_size))\n",
    "\n",
    "# gener_loss_tf = sess.run(gener_loss,{input_tensor: x})\n",
    "# print(gener_loss_tf)"
   ]
  },
  {
   "cell_type": "code",
   "execution_count": 26,
   "metadata": {},
   "outputs": [
    {
     "ename": "FailedPreconditionError",
     "evalue": "Attempting to use uninitialized value global_step\n\t [[Node: global_step/read = Identity[T=DT_INT32, _class=[\"loc:@global_step\"], _device=\"/job:localhost/replica:0/task:0/cpu:0\"](global_step)]]\n\nCaused by op u'global_step/read', defined at:\n  File \"/home/becky/anaconda2/envs/tensorflow/lib/python2.7/runpy.py\", line 174, in _run_module_as_main\n    \"__main__\", fname, loader, pkg_name)\n  File \"/home/becky/anaconda2/envs/tensorflow/lib/python2.7/runpy.py\", line 72, in _run_code\n    exec code in run_globals\n  File \"/home/becky/anaconda2/envs/tensorflow/lib/python2.7/site-packages/ipykernel_launcher.py\", line 16, in <module>\n    app.launch_new_instance()\n  File \"/home/becky/anaconda2/envs/tensorflow/lib/python2.7/site-packages/traitlets/config/application.py\", line 658, in launch_instance\n    app.start()\n  File \"/home/becky/anaconda2/envs/tensorflow/lib/python2.7/site-packages/ipykernel/kernelapp.py\", line 477, in start\n    ioloop.IOLoop.instance().start()\n  File \"/home/becky/anaconda2/envs/tensorflow/lib/python2.7/site-packages/zmq/eventloop/ioloop.py\", line 177, in start\n    super(ZMQIOLoop, self).start()\n  File \"/home/becky/anaconda2/envs/tensorflow/lib/python2.7/site-packages/tornado/ioloop.py\", line 888, in start\n    handler_func(fd_obj, events)\n  File \"/home/becky/anaconda2/envs/tensorflow/lib/python2.7/site-packages/tornado/stack_context.py\", line 277, in null_wrapper\n    return fn(*args, **kwargs)\n  File \"/home/becky/anaconda2/envs/tensorflow/lib/python2.7/site-packages/zmq/eventloop/zmqstream.py\", line 440, in _handle_events\n    self._handle_recv()\n  File \"/home/becky/anaconda2/envs/tensorflow/lib/python2.7/site-packages/zmq/eventloop/zmqstream.py\", line 472, in _handle_recv\n    self._run_callback(callback, msg)\n  File \"/home/becky/anaconda2/envs/tensorflow/lib/python2.7/site-packages/zmq/eventloop/zmqstream.py\", line 414, in _run_callback\n    callback(*args, **kwargs)\n  File \"/home/becky/anaconda2/envs/tensorflow/lib/python2.7/site-packages/tornado/stack_context.py\", line 277, in null_wrapper\n    return fn(*args, **kwargs)\n  File \"/home/becky/anaconda2/envs/tensorflow/lib/python2.7/site-packages/ipykernel/kernelbase.py\", line 283, in dispatcher\n    return self.dispatch_shell(stream, msg)\n  File \"/home/becky/anaconda2/envs/tensorflow/lib/python2.7/site-packages/ipykernel/kernelbase.py\", line 235, in dispatch_shell\n    handler(stream, idents, msg)\n  File \"/home/becky/anaconda2/envs/tensorflow/lib/python2.7/site-packages/ipykernel/kernelbase.py\", line 399, in execute_request\n    user_expressions, allow_stdin)\n  File \"/home/becky/anaconda2/envs/tensorflow/lib/python2.7/site-packages/ipykernel/ipkernel.py\", line 196, in do_execute\n    res = shell.run_cell(code, store_history=store_history, silent=silent)\n  File \"/home/becky/anaconda2/envs/tensorflow/lib/python2.7/site-packages/ipykernel/zmqshell.py\", line 533, in run_cell\n    return super(ZMQInteractiveShell, self).run_cell(*args, **kwargs)\n  File \"/home/becky/anaconda2/envs/tensorflow/lib/python2.7/site-packages/IPython/core/interactiveshell.py\", line 2717, in run_cell\n    interactivity=interactivity, compiler=compiler, result=result)\n  File \"/home/becky/anaconda2/envs/tensorflow/lib/python2.7/site-packages/IPython/core/interactiveshell.py\", line 2821, in run_ast_nodes\n    if self.run_code(code, result):\n  File \"/home/becky/anaconda2/envs/tensorflow/lib/python2.7/site-packages/IPython/core/interactiveshell.py\", line 2881, in run_code\n    exec(code_obj, self.user_global_ns, self.user_ns)\n  File \"<ipython-input-5-d81f4221267a>\", line 19, in <module>\n    D_input = discriminator(input_tensor)\n  File \"<ipython-input-3-02140ac1c71b>\", line 13, in discriminator\n    conv2d(5, 32, stride=2).\n  File \"/home/becky/anaconda2/envs/tensorflow/lib/python2.7/site-packages/prettytensor/pretty_tensor_class.py\", line 1972, in method\n    result = func(non_seq_layer, *args, **kwargs)\n  File \"/home/becky/anaconda2/envs/tensorflow/lib/python2.7/site-packages/prettytensor/pretty_tensor_image_methods.py\", line 225, in __call__\n    y, batch_normalize)\n  File \"/home/becky/anaconda2/envs/tensorflow/lib/python2.7/site-packages/prettytensor/pretty_tensor_normalization_methods.py\", line 48, in batch_normalize_with_arguments\n    return x.batch_normalize()\n  File \"/home/becky/anaconda2/envs/tensorflow/lib/python2.7/site-packages/prettytensor/pretty_tensor_class.py\", line 1972, in method\n    result = func(non_seq_layer, *args, **kwargs)\n  File \"/home/becky/anaconda2/envs/tensorflow/lib/python2.7/site-packages/prettytensor/pretty_tensor_normalization_methods.py\", line 124, in __call__\n    mean, moving_mean, 1.0 - learned_moments_update_rate)\n  File \"/home/becky/anaconda2/envs/tensorflow/lib/python2.7/site-packages/prettytensor/bookkeeper.py\", line 304, in exponential_moving_average\n    num_updates = tf.cast(self.global_step, tf.float32)\n  File \"/home/becky/anaconda2/envs/tensorflow/lib/python2.7/site-packages/prettytensor/bookkeeper.py\", line 190, in global_step\n    self._add_global_counter()\n  File \"/home/becky/anaconda2/envs/tensorflow/lib/python2.7/site-packages/prettytensor/bookkeeper.py\", line 239, in _add_global_counter\n    self._global_step = tf.Variable(0, name='global_step', trainable=False)\n  File \"/home/becky/anaconda2/envs/tensorflow/lib/python2.7/site-packages/tensorflow/python/ops/variables.py\", line 199, in __init__\n    expected_shape=expected_shape)\n  File \"/home/becky/anaconda2/envs/tensorflow/lib/python2.7/site-packages/tensorflow/python/ops/variables.py\", line 330, in _init_from_args\n    self._snapshot = array_ops.identity(self._variable, name=\"read\")\n  File \"/home/becky/anaconda2/envs/tensorflow/lib/python2.7/site-packages/tensorflow/python/ops/gen_array_ops.py\", line 1400, in identity\n    result = _op_def_lib.apply_op(\"Identity\", input=input, name=name)\n  File \"/home/becky/anaconda2/envs/tensorflow/lib/python2.7/site-packages/tensorflow/python/framework/op_def_library.py\", line 767, in apply_op\n    op_def=op_def)\n  File \"/home/becky/anaconda2/envs/tensorflow/lib/python2.7/site-packages/tensorflow/python/framework/ops.py\", line 2630, in create_op\n    original_op=self._default_original_op, op_def=op_def)\n  File \"/home/becky/anaconda2/envs/tensorflow/lib/python2.7/site-packages/tensorflow/python/framework/ops.py\", line 1204, in __init__\n    self._traceback = self._graph._extract_stack()  # pylint: disable=protected-access\n\nFailedPreconditionError (see above for traceback): Attempting to use uninitialized value global_step\n\t [[Node: global_step/read = Identity[T=DT_INT32, _class=[\"loc:@global_step\"], _device=\"/job:localhost/replica:0/task:0/cpu:0\"](global_step)]]\n",
     "output_type": "error",
     "traceback": [
      "\u001b[0;31m---------------------------------------------------------------------------\u001b[0m",
      "\u001b[0;31mFailedPreconditionError\u001b[0m                   Traceback (most recent call last)",
      "\u001b[0;32m<ipython-input-26-17c0feff4dcf>\u001b[0m in \u001b[0;36m<module>\u001b[0;34m()\u001b[0m\n\u001b[1;32m      6\u001b[0m \u001b[0;34m\u001b[0m\u001b[0m\n\u001b[1;32m      7\u001b[0m \u001b[0mplt\u001b[0m\u001b[0;34m.\u001b[0m\u001b[0msubplot\u001b[0m\u001b[0;34m(\u001b[0m\u001b[0;36m1\u001b[0m\u001b[0;34m,\u001b[0m\u001b[0;36m2\u001b[0m\u001b[0;34m,\u001b[0m\u001b[0;36m2\u001b[0m\u001b[0;34m)\u001b[0m\u001b[0;34m\u001b[0m\u001b[0m\n\u001b[0;32m----> 8\u001b[0;31m \u001b[0mx1\u001b[0m \u001b[0;34m=\u001b[0m \u001b[0msess\u001b[0m\u001b[0;34m.\u001b[0m\u001b[0mrun\u001b[0m\u001b[0;34m(\u001b[0m\u001b[0mgenerated_tensor\u001b[0m\u001b[0;34m)\u001b[0m\u001b[0;34m\u001b[0m\u001b[0m\n\u001b[0m\u001b[1;32m      9\u001b[0m \u001b[0mshow_img\u001b[0m\u001b[0;34m(\u001b[0m\u001b[0mx1\u001b[0m\u001b[0;34m,\u001b[0m\u001b[0mM\u001b[0m\u001b[0;34m=\u001b[0m\u001b[0;36m5\u001b[0m\u001b[0;34m,\u001b[0m\u001b[0msize\u001b[0m\u001b[0;34m=\u001b[0m\u001b[0;34m[\u001b[0m\u001b[0;36m28\u001b[0m\u001b[0;34m,\u001b[0m\u001b[0;36m20\u001b[0m\u001b[0;34m]\u001b[0m\u001b[0;34m)\u001b[0m\u001b[0;34m\u001b[0m\u001b[0m\n\u001b[1;32m     10\u001b[0m \u001b[0m_\u001b[0m \u001b[0;34m=\u001b[0m \u001b[0mplt\u001b[0m\u001b[0;34m.\u001b[0m\u001b[0mtitle\u001b[0m\u001b[0;34m(\u001b[0m\u001b[0;34m'Generated Samples'\u001b[0m\u001b[0;34m)\u001b[0m\u001b[0;34m\u001b[0m\u001b[0m\n",
      "\u001b[0;32m/home/becky/anaconda2/envs/tensorflow/lib/python2.7/site-packages/tensorflow/python/client/session.pyc\u001b[0m in \u001b[0;36mrun\u001b[0;34m(self, fetches, feed_dict, options, run_metadata)\u001b[0m\n\u001b[1;32m    893\u001b[0m     \u001b[0;32mtry\u001b[0m\u001b[0;34m:\u001b[0m\u001b[0;34m\u001b[0m\u001b[0m\n\u001b[1;32m    894\u001b[0m       result = self._run(None, fetches, feed_dict, options_ptr,\n\u001b[0;32m--> 895\u001b[0;31m                          run_metadata_ptr)\n\u001b[0m\u001b[1;32m    896\u001b[0m       \u001b[0;32mif\u001b[0m \u001b[0mrun_metadata\u001b[0m\u001b[0;34m:\u001b[0m\u001b[0;34m\u001b[0m\u001b[0m\n\u001b[1;32m    897\u001b[0m         \u001b[0mproto_data\u001b[0m \u001b[0;34m=\u001b[0m \u001b[0mtf_session\u001b[0m\u001b[0;34m.\u001b[0m\u001b[0mTF_GetBuffer\u001b[0m\u001b[0;34m(\u001b[0m\u001b[0mrun_metadata_ptr\u001b[0m\u001b[0;34m)\u001b[0m\u001b[0;34m\u001b[0m\u001b[0m\n",
      "\u001b[0;32m/home/becky/anaconda2/envs/tensorflow/lib/python2.7/site-packages/tensorflow/python/client/session.pyc\u001b[0m in \u001b[0;36m_run\u001b[0;34m(self, handle, fetches, feed_dict, options, run_metadata)\u001b[0m\n\u001b[1;32m   1122\u001b[0m     \u001b[0;32mif\u001b[0m \u001b[0mfinal_fetches\u001b[0m \u001b[0;32mor\u001b[0m \u001b[0mfinal_targets\u001b[0m \u001b[0;32mor\u001b[0m \u001b[0;34m(\u001b[0m\u001b[0mhandle\u001b[0m \u001b[0;32mand\u001b[0m \u001b[0mfeed_dict_tensor\u001b[0m\u001b[0;34m)\u001b[0m\u001b[0;34m:\u001b[0m\u001b[0;34m\u001b[0m\u001b[0m\n\u001b[1;32m   1123\u001b[0m       results = self._do_run(handle, final_targets, final_fetches,\n\u001b[0;32m-> 1124\u001b[0;31m                              feed_dict_tensor, options, run_metadata)\n\u001b[0m\u001b[1;32m   1125\u001b[0m     \u001b[0;32melse\u001b[0m\u001b[0;34m:\u001b[0m\u001b[0;34m\u001b[0m\u001b[0m\n\u001b[1;32m   1126\u001b[0m       \u001b[0mresults\u001b[0m \u001b[0;34m=\u001b[0m \u001b[0;34m[\u001b[0m\u001b[0;34m]\u001b[0m\u001b[0;34m\u001b[0m\u001b[0m\n",
      "\u001b[0;32m/home/becky/anaconda2/envs/tensorflow/lib/python2.7/site-packages/tensorflow/python/client/session.pyc\u001b[0m in \u001b[0;36m_do_run\u001b[0;34m(self, handle, target_list, fetch_list, feed_dict, options, run_metadata)\u001b[0m\n\u001b[1;32m   1319\u001b[0m     \u001b[0;32mif\u001b[0m \u001b[0mhandle\u001b[0m \u001b[0;32mis\u001b[0m \u001b[0mNone\u001b[0m\u001b[0;34m:\u001b[0m\u001b[0;34m\u001b[0m\u001b[0m\n\u001b[1;32m   1320\u001b[0m       return self._do_call(_run_fn, self._session, feeds, fetches, targets,\n\u001b[0;32m-> 1321\u001b[0;31m                            options, run_metadata)\n\u001b[0m\u001b[1;32m   1322\u001b[0m     \u001b[0;32melse\u001b[0m\u001b[0;34m:\u001b[0m\u001b[0;34m\u001b[0m\u001b[0m\n\u001b[1;32m   1323\u001b[0m       \u001b[0;32mreturn\u001b[0m \u001b[0mself\u001b[0m\u001b[0;34m.\u001b[0m\u001b[0m_do_call\u001b[0m\u001b[0;34m(\u001b[0m\u001b[0m_prun_fn\u001b[0m\u001b[0;34m,\u001b[0m \u001b[0mself\u001b[0m\u001b[0;34m.\u001b[0m\u001b[0m_session\u001b[0m\u001b[0;34m,\u001b[0m \u001b[0mhandle\u001b[0m\u001b[0;34m,\u001b[0m \u001b[0mfeeds\u001b[0m\u001b[0;34m,\u001b[0m \u001b[0mfetches\u001b[0m\u001b[0;34m)\u001b[0m\u001b[0;34m\u001b[0m\u001b[0m\n",
      "\u001b[0;32m/home/becky/anaconda2/envs/tensorflow/lib/python2.7/site-packages/tensorflow/python/client/session.pyc\u001b[0m in \u001b[0;36m_do_call\u001b[0;34m(self, fn, *args)\u001b[0m\n\u001b[1;32m   1338\u001b[0m         \u001b[0;32mexcept\u001b[0m \u001b[0mKeyError\u001b[0m\u001b[0;34m:\u001b[0m\u001b[0;34m\u001b[0m\u001b[0m\n\u001b[1;32m   1339\u001b[0m           \u001b[0;32mpass\u001b[0m\u001b[0;34m\u001b[0m\u001b[0m\n\u001b[0;32m-> 1340\u001b[0;31m       \u001b[0;32mraise\u001b[0m \u001b[0mtype\u001b[0m\u001b[0;34m(\u001b[0m\u001b[0me\u001b[0m\u001b[0;34m)\u001b[0m\u001b[0;34m(\u001b[0m\u001b[0mnode_def\u001b[0m\u001b[0;34m,\u001b[0m \u001b[0mop\u001b[0m\u001b[0;34m,\u001b[0m \u001b[0mmessage\u001b[0m\u001b[0;34m)\u001b[0m\u001b[0;34m\u001b[0m\u001b[0m\n\u001b[0m\u001b[1;32m   1341\u001b[0m \u001b[0;34m\u001b[0m\u001b[0m\n\u001b[1;32m   1342\u001b[0m   \u001b[0;32mdef\u001b[0m \u001b[0m_extend_graph\u001b[0m\u001b[0;34m(\u001b[0m\u001b[0mself\u001b[0m\u001b[0;34m)\u001b[0m\u001b[0;34m:\u001b[0m\u001b[0;34m\u001b[0m\u001b[0m\n",
      "\u001b[0;31mFailedPreconditionError\u001b[0m: Attempting to use uninitialized value global_step\n\t [[Node: global_step/read = Identity[T=DT_INT32, _class=[\"loc:@global_step\"], _device=\"/job:localhost/replica:0/task:0/cpu:0\"](global_step)]]\n\nCaused by op u'global_step/read', defined at:\n  File \"/home/becky/anaconda2/envs/tensorflow/lib/python2.7/runpy.py\", line 174, in _run_module_as_main\n    \"__main__\", fname, loader, pkg_name)\n  File \"/home/becky/anaconda2/envs/tensorflow/lib/python2.7/runpy.py\", line 72, in _run_code\n    exec code in run_globals\n  File \"/home/becky/anaconda2/envs/tensorflow/lib/python2.7/site-packages/ipykernel_launcher.py\", line 16, in <module>\n    app.launch_new_instance()\n  File \"/home/becky/anaconda2/envs/tensorflow/lib/python2.7/site-packages/traitlets/config/application.py\", line 658, in launch_instance\n    app.start()\n  File \"/home/becky/anaconda2/envs/tensorflow/lib/python2.7/site-packages/ipykernel/kernelapp.py\", line 477, in start\n    ioloop.IOLoop.instance().start()\n  File \"/home/becky/anaconda2/envs/tensorflow/lib/python2.7/site-packages/zmq/eventloop/ioloop.py\", line 177, in start\n    super(ZMQIOLoop, self).start()\n  File \"/home/becky/anaconda2/envs/tensorflow/lib/python2.7/site-packages/tornado/ioloop.py\", line 888, in start\n    handler_func(fd_obj, events)\n  File \"/home/becky/anaconda2/envs/tensorflow/lib/python2.7/site-packages/tornado/stack_context.py\", line 277, in null_wrapper\n    return fn(*args, **kwargs)\n  File \"/home/becky/anaconda2/envs/tensorflow/lib/python2.7/site-packages/zmq/eventloop/zmqstream.py\", line 440, in _handle_events\n    self._handle_recv()\n  File \"/home/becky/anaconda2/envs/tensorflow/lib/python2.7/site-packages/zmq/eventloop/zmqstream.py\", line 472, in _handle_recv\n    self._run_callback(callback, msg)\n  File \"/home/becky/anaconda2/envs/tensorflow/lib/python2.7/site-packages/zmq/eventloop/zmqstream.py\", line 414, in _run_callback\n    callback(*args, **kwargs)\n  File \"/home/becky/anaconda2/envs/tensorflow/lib/python2.7/site-packages/tornado/stack_context.py\", line 277, in null_wrapper\n    return fn(*args, **kwargs)\n  File \"/home/becky/anaconda2/envs/tensorflow/lib/python2.7/site-packages/ipykernel/kernelbase.py\", line 283, in dispatcher\n    return self.dispatch_shell(stream, msg)\n  File \"/home/becky/anaconda2/envs/tensorflow/lib/python2.7/site-packages/ipykernel/kernelbase.py\", line 235, in dispatch_shell\n    handler(stream, idents, msg)\n  File \"/home/becky/anaconda2/envs/tensorflow/lib/python2.7/site-packages/ipykernel/kernelbase.py\", line 399, in execute_request\n    user_expressions, allow_stdin)\n  File \"/home/becky/anaconda2/envs/tensorflow/lib/python2.7/site-packages/ipykernel/ipkernel.py\", line 196, in do_execute\n    res = shell.run_cell(code, store_history=store_history, silent=silent)\n  File \"/home/becky/anaconda2/envs/tensorflow/lib/python2.7/site-packages/ipykernel/zmqshell.py\", line 533, in run_cell\n    return super(ZMQInteractiveShell, self).run_cell(*args, **kwargs)\n  File \"/home/becky/anaconda2/envs/tensorflow/lib/python2.7/site-packages/IPython/core/interactiveshell.py\", line 2717, in run_cell\n    interactivity=interactivity, compiler=compiler, result=result)\n  File \"/home/becky/anaconda2/envs/tensorflow/lib/python2.7/site-packages/IPython/core/interactiveshell.py\", line 2821, in run_ast_nodes\n    if self.run_code(code, result):\n  File \"/home/becky/anaconda2/envs/tensorflow/lib/python2.7/site-packages/IPython/core/interactiveshell.py\", line 2881, in run_code\n    exec(code_obj, self.user_global_ns, self.user_ns)\n  File \"<ipython-input-5-d81f4221267a>\", line 19, in <module>\n    D_input = discriminator(input_tensor)\n  File \"<ipython-input-3-02140ac1c71b>\", line 13, in discriminator\n    conv2d(5, 32, stride=2).\n  File \"/home/becky/anaconda2/envs/tensorflow/lib/python2.7/site-packages/prettytensor/pretty_tensor_class.py\", line 1972, in method\n    result = func(non_seq_layer, *args, **kwargs)\n  File \"/home/becky/anaconda2/envs/tensorflow/lib/python2.7/site-packages/prettytensor/pretty_tensor_image_methods.py\", line 225, in __call__\n    y, batch_normalize)\n  File \"/home/becky/anaconda2/envs/tensorflow/lib/python2.7/site-packages/prettytensor/pretty_tensor_normalization_methods.py\", line 48, in batch_normalize_with_arguments\n    return x.batch_normalize()\n  File \"/home/becky/anaconda2/envs/tensorflow/lib/python2.7/site-packages/prettytensor/pretty_tensor_class.py\", line 1972, in method\n    result = func(non_seq_layer, *args, **kwargs)\n  File \"/home/becky/anaconda2/envs/tensorflow/lib/python2.7/site-packages/prettytensor/pretty_tensor_normalization_methods.py\", line 124, in __call__\n    mean, moving_mean, 1.0 - learned_moments_update_rate)\n  File \"/home/becky/anaconda2/envs/tensorflow/lib/python2.7/site-packages/prettytensor/bookkeeper.py\", line 304, in exponential_moving_average\n    num_updates = tf.cast(self.global_step, tf.float32)\n  File \"/home/becky/anaconda2/envs/tensorflow/lib/python2.7/site-packages/prettytensor/bookkeeper.py\", line 190, in global_step\n    self._add_global_counter()\n  File \"/home/becky/anaconda2/envs/tensorflow/lib/python2.7/site-packages/prettytensor/bookkeeper.py\", line 239, in _add_global_counter\n    self._global_step = tf.Variable(0, name='global_step', trainable=False)\n  File \"/home/becky/anaconda2/envs/tensorflow/lib/python2.7/site-packages/tensorflow/python/ops/variables.py\", line 199, in __init__\n    expected_shape=expected_shape)\n  File \"/home/becky/anaconda2/envs/tensorflow/lib/python2.7/site-packages/tensorflow/python/ops/variables.py\", line 330, in _init_from_args\n    self._snapshot = array_ops.identity(self._variable, name=\"read\")\n  File \"/home/becky/anaconda2/envs/tensorflow/lib/python2.7/site-packages/tensorflow/python/ops/gen_array_ops.py\", line 1400, in identity\n    result = _op_def_lib.apply_op(\"Identity\", input=input, name=name)\n  File \"/home/becky/anaconda2/envs/tensorflow/lib/python2.7/site-packages/tensorflow/python/framework/op_def_library.py\", line 767, in apply_op\n    op_def=op_def)\n  File \"/home/becky/anaconda2/envs/tensorflow/lib/python2.7/site-packages/tensorflow/python/framework/ops.py\", line 2630, in create_op\n    original_op=self._default_original_op, op_def=op_def)\n  File \"/home/becky/anaconda2/envs/tensorflow/lib/python2.7/site-packages/tensorflow/python/framework/ops.py\", line 1204, in __init__\n    self._traceback = self._graph._extract_stack()  # pylint: disable=protected-access\n\nFailedPreconditionError (see above for traceback): Attempting to use uninitialized value global_step\n\t [[Node: global_step/read = Identity[T=DT_INT32, _class=[\"loc:@global_step\"], _device=\"/job:localhost/replica:0/task:0/cpu:0\"](global_step)]]\n"
     ]
    },
    {
     "data": {
      "image/png": "[encoded data removed]",
      "text/plain": [
       "<matplotlib.figure.Figure at 0x7f95c7658190>"
      ]
     },
     "metadata": {},
     "output_type": "display_data"
    }
   ],
   "source": [
    "batch_idx = np.random.randint(np.shape(frey_full)[0],size=[FLAGS.batch_size,])\n",
    "\n",
    "plt.subplot(1,2,1)\n",
    "show_img(frey_full[batch_idx],M=5,size=[28,20])\n",
    "_ = plt.title('Real samples')\n",
    "\n",
    "plt.subplot(1,2,2)\n",
    "x1 = sess.run(generated_tensor)\n",
    "show_img(x1,M=5,size=[28,20])\n",
    "_ = plt.title('Generated Samples')\n",
    "\n",
    "plt.show()"
   ]
  },
  {
   "cell_type": "code",
   "execution_count": null,
   "metadata": {
    "collapsed": true
   },
   "outputs": [],
   "source": []
  },
  {
   "cell_type": "code",
   "execution_count": null,
   "metadata": {
    "collapsed": true
   },
   "outputs": [],
   "source": []
  },
  {
   "cell_type": "code",
   "execution_count": 13,
   "metadata": {
    "collapsed": true
   },
   "outputs": [],
   "source": [
    "# Draw 10000 generated samples and compare with the original data\n",
    "\n",
    "num_sampl = 10000\n",
    "max_epoch = np.int(np.floor(num_sampl/FLAGS.batch_size))\n",
    "\n",
    "frey_generated = np.zeros([num_sampl, FLAGS.dim])\n",
    "\n",
    "for step in range(max_epoch+1):\n",
    "    \n",
    "    batch_idx = range(step*FLAGS.batch_size,np.min([(step+1)*FLAGS.batch_size,num_sampl]))\n",
    "\n",
    "    x = sess.run(generated_tensor_test)\n",
    "    \n",
    "    frey_generated[batch_idx,:] = x[:np.size(batch_idx),:]"
   ]
  },
  {
   "cell_type": "code",
   "execution_count": 14,
   "metadata": {},
   "outputs": [
    {
     "data": {
      "image/png": "[encoded data removed]",
      "text/plain": [
       "<matplotlib.figure.Figure at 0x7f95dc633850>"
      ]
     },
     "metadata": {},
     "output_type": "display_data"
    }
   ],
   "source": [
    "latent_dim = 5\n",
    "\n",
    "score,evals,coef,dmean = PCA(np.reshape(frey_full.copy(),[np.shape(frey_full)[0],FLAGS.dim]),latent_dim)\n",
    "\n",
    "width = 6\n",
    "height = 3\n",
    "plt.figure(figsize=(width, height))\n",
    "\n",
    "dim1 = 0\n",
    "dim2 = 2\n",
    "\n",
    "# Data distribution\n",
    "\n",
    "plt.subplot(1,2,1)\n",
    "# _ = plt.plot(score[:,0],score[:,1],'sg', alpha=.3)\n",
    "_,_,_,_ = plt.hist2d(score[:,dim1],score[:,dim2],bins=20,normed=True,\n",
    "                     range=[[-3,3],[-1.5,2.5]])\n",
    "# _ = plt.axis('square')\n",
    "\n",
    "score_generated = np.dot(frey_generated-dmean,coef)\n",
    "\n",
    "plt.subplot(1,2,2)\n",
    "# _ = plt.plot(score_generated[:,0],score_generated[:,1],'sg', alpha=.3)\n",
    "_,_,_,_ = plt.hist2d(score_generated[:,dim1],score_generated[:,dim2],bins=20,normed=True,\n",
    "                    range=[[-3,3],[-1.5,2.5]])\n",
    "# _ = plt.axis('square')\n",
    "\n",
    "# dim (0,2)"
   ]
  },
  {
   "cell_type": "code",
   "execution_count": null,
   "metadata": {
    "collapsed": true
   },
   "outputs": [],
   "source": []
  }
 ],
 "metadata": {
  "kernelspec": {
   "display_name": "Python 2",
   "language": "python",
   "name": "python2"
  },
  "language_info": {
   "codemirror_mode": {
    "name": "ipython",
    "version": 2
   },
   "file_extension": ".py",
   "mimetype": "text/x-python",
   "name": "python",
   "nbconvert_exporter": "python",
   "pygments_lexer": "ipython2",
   "version": "2.7.13"
  }
 },
 "nbformat": 4,
 "nbformat_minor": 2
}
